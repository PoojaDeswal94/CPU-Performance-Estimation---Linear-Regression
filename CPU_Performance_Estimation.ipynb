{
 "cells": [
  {
   "cell_type": "markdown",
   "metadata": {},
   "source": [
    "## Project Statement:\n",
    "The aim is to estimate the relative CPU performance of a computer hardware dataset. "
   ]
  },
  {
   "cell_type": "markdown",
   "metadata": {},
   "source": [
    "## Data Set Information:\n",
    "\n",
    "The estimated relative performance values were estimated by the authors using a linear regression method. See their article (pp 308-313) for more details on how the relative performance values were set.\n",
    "\n",
    "\n",
    "**Attribute Information:**\n",
    "\n",
    "1. vendor name: 30\n",
    "(adviser, amdahl,apollo, basf, bti, burroughs, c.r.d, cambex, cdc, dec,\n",
    "dg, formation, four-phase, gould, honeywell, hp, ibm, ipl, magnuson,\n",
    "microdata, nas, ncr, nixdorf, perkin-elmer, prime, siemens, sperry,\n",
    "sratus, wang)\n",
    "2. Model Name: many unique symbols\n",
    "3. MYCT: machine cycle time in nanoseconds (integer)\n",
    "4. MMIN: minimum main memory in kilobytes (integer)\n",
    "5. MMAX: maximum main memory in kilobytes (integer)\n",
    "6. CACH: cache memory in kilobytes (integer)\n",
    "7. CHMIN: minimum channels in units (integer)\n",
    "8. CHMAX: maximum channels in units (integer)\n",
    "9. PRP: published relative performance (integer)\n",
    "10. ERP: estimated relative performance from the original article (integer)"
   ]
  },
  {
   "cell_type": "code",
   "execution_count": 1,
   "metadata": {},
   "outputs": [],
   "source": [
    "# importing python libraries\n",
    "\n",
    "import numpy as np # for mathematical operations\n",
    "import pandas as pd # to manage the dataset\n",
    "\n",
    "# for visualisation\n",
    "import matplotlib.pyplot as plt\n",
    "%matplotlib inline\n",
    "import seaborn as sns\n",
    "\n",
    "\n",
    "import warnings\n",
    "warnings.filterwarnings('ignore')"
   ]
  },
  {
   "cell_type": "code",
   "execution_count": 2,
   "metadata": {},
   "outputs": [],
   "source": [
    "# import the dataset\n",
    "\n",
    "input_file = \"machine.data.csv\"\n",
    "\n",
    "df = pd.read_csv(input_file, header = None)"
   ]
  },
  {
   "cell_type": "markdown",
   "metadata": {},
   "source": [
    "## Exploratory Data Analysis"
   ]
  },
  {
   "cell_type": "code",
   "execution_count": 3,
   "metadata": {},
   "outputs": [
    {
     "name": "stdout",
     "output_type": "stream",
     "text": [
      "         0        1    2     3      4    5   6    7    8    9\n",
      "0  adviser    32/60  125   256   6000  256  16  128  198  199\n",
      "1   amdahl   470v/7   29  8000  32000   32   8   32  269  253\n",
      "2   amdahl  470v/7a   29  8000  32000   32   8   32  220  253\n",
      "3   amdahl  470v/7b   29  8000  32000   32   8   32  172  253\n",
      "4   amdahl  470v/7c   29  8000  16000   32   8   16  132  132\n",
      "(209, 10)\n"
     ]
    }
   ],
   "source": [
    "#printing first 5 rows of dataset\n",
    "\n",
    "print(df.head(5))\n",
    "\n",
    "# printing shape of the dataset\n",
    "\n",
    "print(df.shape)"
   ]
  },
  {
   "cell_type": "code",
   "execution_count": 4,
   "metadata": {},
   "outputs": [],
   "source": [
    "# renaming columns of dataframe df\n",
    "\n",
    "col_names = ['Vendor Name','Model Name', 'Machine Cycle Time', 'Min Memory', 'MAX Memory', 'Cache memory'\n",
    "             ,'MIN Channel', 'MAX Channel', 'Published RP', 'Estimated RP' ]\n",
    "\n",
    "df.columns = col_names"
   ]
  },
  {
   "cell_type": "code",
   "execution_count": 5,
   "metadata": {},
   "outputs": [
    {
     "data": {
      "text/html": [
       "<div>\n",
       "<style scoped>\n",
       "    .dataframe tbody tr th:only-of-type {\n",
       "        vertical-align: middle;\n",
       "    }\n",
       "\n",
       "    .dataframe tbody tr th {\n",
       "        vertical-align: top;\n",
       "    }\n",
       "\n",
       "    .dataframe thead th {\n",
       "        text-align: right;\n",
       "    }\n",
       "</style>\n",
       "<table border=\"1\" class=\"dataframe\">\n",
       "  <thead>\n",
       "    <tr style=\"text-align: right;\">\n",
       "      <th></th>\n",
       "      <th>Vendor Name</th>\n",
       "      <th>Model Name</th>\n",
       "      <th>Machine Cycle Time</th>\n",
       "      <th>Min Memory</th>\n",
       "      <th>MAX Memory</th>\n",
       "      <th>Cache memory</th>\n",
       "      <th>MIN Channel</th>\n",
       "      <th>MAX Channel</th>\n",
       "      <th>Published RP</th>\n",
       "      <th>Estimated RP</th>\n",
       "    </tr>\n",
       "  </thead>\n",
       "  <tbody>\n",
       "    <tr>\n",
       "      <th>0</th>\n",
       "      <td>adviser</td>\n",
       "      <td>32/60</td>\n",
       "      <td>125</td>\n",
       "      <td>256</td>\n",
       "      <td>6000</td>\n",
       "      <td>256</td>\n",
       "      <td>16</td>\n",
       "      <td>128</td>\n",
       "      <td>198</td>\n",
       "      <td>199</td>\n",
       "    </tr>\n",
       "    <tr>\n",
       "      <th>1</th>\n",
       "      <td>amdahl</td>\n",
       "      <td>470v/7</td>\n",
       "      <td>29</td>\n",
       "      <td>8000</td>\n",
       "      <td>32000</td>\n",
       "      <td>32</td>\n",
       "      <td>8</td>\n",
       "      <td>32</td>\n",
       "      <td>269</td>\n",
       "      <td>253</td>\n",
       "    </tr>\n",
       "    <tr>\n",
       "      <th>2</th>\n",
       "      <td>amdahl</td>\n",
       "      <td>470v/7a</td>\n",
       "      <td>29</td>\n",
       "      <td>8000</td>\n",
       "      <td>32000</td>\n",
       "      <td>32</td>\n",
       "      <td>8</td>\n",
       "      <td>32</td>\n",
       "      <td>220</td>\n",
       "      <td>253</td>\n",
       "    </tr>\n",
       "    <tr>\n",
       "      <th>3</th>\n",
       "      <td>amdahl</td>\n",
       "      <td>470v/7b</td>\n",
       "      <td>29</td>\n",
       "      <td>8000</td>\n",
       "      <td>32000</td>\n",
       "      <td>32</td>\n",
       "      <td>8</td>\n",
       "      <td>32</td>\n",
       "      <td>172</td>\n",
       "      <td>253</td>\n",
       "    </tr>\n",
       "    <tr>\n",
       "      <th>4</th>\n",
       "      <td>amdahl</td>\n",
       "      <td>470v/7c</td>\n",
       "      <td>29</td>\n",
       "      <td>8000</td>\n",
       "      <td>16000</td>\n",
       "      <td>32</td>\n",
       "      <td>8</td>\n",
       "      <td>16</td>\n",
       "      <td>132</td>\n",
       "      <td>132</td>\n",
       "    </tr>\n",
       "  </tbody>\n",
       "</table>\n",
       "</div>"
      ],
      "text/plain": [
       "  Vendor Name Model Name  Machine Cycle Time  Min Memory  MAX Memory  \\\n",
       "0     adviser      32/60                 125         256        6000   \n",
       "1      amdahl     470v/7                  29        8000       32000   \n",
       "2      amdahl    470v/7a                  29        8000       32000   \n",
       "3      amdahl    470v/7b                  29        8000       32000   \n",
       "4      amdahl    470v/7c                  29        8000       16000   \n",
       "\n",
       "   Cache memory  MIN Channel  MAX Channel  Published RP  Estimated RP  \n",
       "0           256           16          128           198           199  \n",
       "1            32            8           32           269           253  \n",
       "2            32            8           32           220           253  \n",
       "3            32            8           32           172           253  \n",
       "4            32            8           16           132           132  "
      ]
     },
     "execution_count": 5,
     "metadata": {},
     "output_type": "execute_result"
    }
   ],
   "source": [
    "df.head()"
   ]
  },
  {
   "cell_type": "code",
   "execution_count": 6,
   "metadata": {},
   "outputs": [
    {
     "name": "stdout",
     "output_type": "stream",
     "text": [
      "<class 'pandas.core.frame.DataFrame'>\n",
      "RangeIndex: 209 entries, 0 to 208\n",
      "Data columns (total 10 columns):\n",
      " #   Column              Non-Null Count  Dtype \n",
      "---  ------              --------------  ----- \n",
      " 0   Vendor Name         209 non-null    object\n",
      " 1   Model Name          209 non-null    object\n",
      " 2   Machine Cycle Time  209 non-null    int64 \n",
      " 3   Min Memory          209 non-null    int64 \n",
      " 4   MAX Memory          209 non-null    int64 \n",
      " 5   Cache memory        209 non-null    int64 \n",
      " 6   MIN Channel         209 non-null    int64 \n",
      " 7   MAX Channel         209 non-null    int64 \n",
      " 8   Published RP        209 non-null    int64 \n",
      " 9   Estimated RP        209 non-null    int64 \n",
      "dtypes: int64(8), object(2)\n",
      "memory usage: 16.5+ KB\n"
     ]
    }
   ],
   "source": [
    "# to get the summary of the dataframe\n",
    "df.info()"
   ]
  },
  {
   "cell_type": "code",
   "execution_count": 7,
   "metadata": {},
   "outputs": [
    {
     "data": {
      "text/plain": [
       "['Vendor Name', 'Model Name']"
      ]
     },
     "execution_count": 7,
     "metadata": {},
     "output_type": "execute_result"
    }
   ],
   "source": [
    "# seperating the categorical columns from the dataframe\n",
    "\n",
    "df_cat = [column for column in df.columns if df[column].dtype=='O']\n",
    "df_cat"
   ]
  },
  {
   "cell_type": "code",
   "execution_count": 8,
   "metadata": {},
   "outputs": [
    {
     "data": {
      "text/plain": [
       "ibm             32\n",
       "nas             19\n",
       "sperry          13\n",
       "honeywell       13\n",
       "ncr             13\n",
       "siemens         12\n",
       "cdc              9\n",
       "amdahl           9\n",
       "burroughs        8\n",
       "hp               7\n",
       "dg               7\n",
       "harris           7\n",
       "c.r.d            6\n",
       "ipl              6\n",
       "magnuson         6\n",
       "dec              6\n",
       "cambex           5\n",
       "prime            5\n",
       "formation        5\n",
       "perkin-elmer     3\n",
       "gould            3\n",
       "nixdorf          3\n",
       "basf             2\n",
       "bti              2\n",
       "apollo           2\n",
       "wang             2\n",
       "microdata        1\n",
       "adviser          1\n",
       "sratus           1\n",
       "four-phase       1\n",
       "Name: Vendor Name, dtype: int64"
      ]
     },
     "execution_count": 8,
     "metadata": {},
     "output_type": "execute_result"
    }
   ],
   "source": [
    "# As from the dataset introduction we got to know there are 30 vendors,\n",
    "# checking the count of each vendor in the dataframe\n",
    "\n",
    "df['Vendor Name'].value_counts()"
   ]
  },
  {
   "cell_type": "code",
   "execution_count": 9,
   "metadata": {},
   "outputs": [
    {
     "data": {
      "text/plain": [
       "False"
      ]
     },
     "execution_count": 9,
     "metadata": {},
     "output_type": "execute_result"
    }
   ],
   "source": [
    "# finding out if there are any duplicate model names \n",
    "\n",
    "df['Model Name'].duplicated().any()"
   ]
  },
  {
   "cell_type": "code",
   "execution_count": 10,
   "metadata": {},
   "outputs": [
    {
     "data": {
      "text/plain": [
       "['Machine Cycle Time',\n",
       " 'Min Memory',\n",
       " 'MAX Memory',\n",
       " 'Cache memory',\n",
       " 'MIN Channel',\n",
       " 'MAX Channel',\n",
       " 'Published RP',\n",
       " 'Estimated RP']"
      ]
     },
     "execution_count": 10,
     "metadata": {},
     "output_type": "execute_result"
    }
   ],
   "source": [
    "#Seperating numerical columns from the dataframe\n",
    "\n",
    "df_num = [column for column in df.columns if df[column].dtype!='O']\n",
    "df_num"
   ]
  },
  {
   "cell_type": "code",
   "execution_count": 12,
   "metadata": {},
   "outputs": [
    {
     "data": {
      "text/html": [
       "<div>\n",
       "<style scoped>\n",
       "    .dataframe tbody tr th:only-of-type {\n",
       "        vertical-align: middle;\n",
       "    }\n",
       "\n",
       "    .dataframe tbody tr th {\n",
       "        vertical-align: top;\n",
       "    }\n",
       "\n",
       "    .dataframe thead th {\n",
       "        text-align: right;\n",
       "    }\n",
       "</style>\n",
       "<table border=\"1\" class=\"dataframe\">\n",
       "  <thead>\n",
       "    <tr style=\"text-align: right;\">\n",
       "      <th></th>\n",
       "      <th>Machine Cycle Time</th>\n",
       "      <th>Min Memory</th>\n",
       "      <th>MAX Memory</th>\n",
       "      <th>Cache memory</th>\n",
       "      <th>MIN Channel</th>\n",
       "      <th>MAX Channel</th>\n",
       "      <th>Published RP</th>\n",
       "      <th>Estimated RP</th>\n",
       "    </tr>\n",
       "  </thead>\n",
       "  <tbody>\n",
       "    <tr>\n",
       "      <th>0</th>\n",
       "      <td>125</td>\n",
       "      <td>256</td>\n",
       "      <td>6000</td>\n",
       "      <td>256</td>\n",
       "      <td>16</td>\n",
       "      <td>128</td>\n",
       "      <td>198</td>\n",
       "      <td>199</td>\n",
       "    </tr>\n",
       "    <tr>\n",
       "      <th>1</th>\n",
       "      <td>29</td>\n",
       "      <td>8000</td>\n",
       "      <td>32000</td>\n",
       "      <td>32</td>\n",
       "      <td>8</td>\n",
       "      <td>32</td>\n",
       "      <td>269</td>\n",
       "      <td>253</td>\n",
       "    </tr>\n",
       "    <tr>\n",
       "      <th>2</th>\n",
       "      <td>29</td>\n",
       "      <td>8000</td>\n",
       "      <td>32000</td>\n",
       "      <td>32</td>\n",
       "      <td>8</td>\n",
       "      <td>32</td>\n",
       "      <td>220</td>\n",
       "      <td>253</td>\n",
       "    </tr>\n",
       "    <tr>\n",
       "      <th>3</th>\n",
       "      <td>29</td>\n",
       "      <td>8000</td>\n",
       "      <td>32000</td>\n",
       "      <td>32</td>\n",
       "      <td>8</td>\n",
       "      <td>32</td>\n",
       "      <td>172</td>\n",
       "      <td>253</td>\n",
       "    </tr>\n",
       "    <tr>\n",
       "      <th>4</th>\n",
       "      <td>29</td>\n",
       "      <td>8000</td>\n",
       "      <td>16000</td>\n",
       "      <td>32</td>\n",
       "      <td>8</td>\n",
       "      <td>16</td>\n",
       "      <td>132</td>\n",
       "      <td>132</td>\n",
       "    </tr>\n",
       "    <tr>\n",
       "      <th>...</th>\n",
       "      <td>...</td>\n",
       "      <td>...</td>\n",
       "      <td>...</td>\n",
       "      <td>...</td>\n",
       "      <td>...</td>\n",
       "      <td>...</td>\n",
       "      <td>...</td>\n",
       "      <td>...</td>\n",
       "    </tr>\n",
       "    <tr>\n",
       "      <th>204</th>\n",
       "      <td>124</td>\n",
       "      <td>1000</td>\n",
       "      <td>8000</td>\n",
       "      <td>0</td>\n",
       "      <td>1</td>\n",
       "      <td>8</td>\n",
       "      <td>42</td>\n",
       "      <td>37</td>\n",
       "    </tr>\n",
       "    <tr>\n",
       "      <th>205</th>\n",
       "      <td>98</td>\n",
       "      <td>1000</td>\n",
       "      <td>8000</td>\n",
       "      <td>32</td>\n",
       "      <td>2</td>\n",
       "      <td>8</td>\n",
       "      <td>46</td>\n",
       "      <td>50</td>\n",
       "    </tr>\n",
       "    <tr>\n",
       "      <th>206</th>\n",
       "      <td>125</td>\n",
       "      <td>2000</td>\n",
       "      <td>8000</td>\n",
       "      <td>0</td>\n",
       "      <td>2</td>\n",
       "      <td>14</td>\n",
       "      <td>52</td>\n",
       "      <td>41</td>\n",
       "    </tr>\n",
       "    <tr>\n",
       "      <th>207</th>\n",
       "      <td>480</td>\n",
       "      <td>512</td>\n",
       "      <td>8000</td>\n",
       "      <td>32</td>\n",
       "      <td>0</td>\n",
       "      <td>0</td>\n",
       "      <td>67</td>\n",
       "      <td>47</td>\n",
       "    </tr>\n",
       "    <tr>\n",
       "      <th>208</th>\n",
       "      <td>480</td>\n",
       "      <td>1000</td>\n",
       "      <td>4000</td>\n",
       "      <td>0</td>\n",
       "      <td>0</td>\n",
       "      <td>0</td>\n",
       "      <td>45</td>\n",
       "      <td>25</td>\n",
       "    </tr>\n",
       "  </tbody>\n",
       "</table>\n",
       "<p>209 rows × 8 columns</p>\n",
       "</div>"
      ],
      "text/plain": [
       "     Machine Cycle Time  Min Memory  MAX Memory  Cache memory  MIN Channel  \\\n",
       "0                   125         256        6000           256           16   \n",
       "1                    29        8000       32000            32            8   \n",
       "2                    29        8000       32000            32            8   \n",
       "3                    29        8000       32000            32            8   \n",
       "4                    29        8000       16000            32            8   \n",
       "..                  ...         ...         ...           ...          ...   \n",
       "204                 124        1000        8000             0            1   \n",
       "205                  98        1000        8000            32            2   \n",
       "206                 125        2000        8000             0            2   \n",
       "207                 480         512        8000            32            0   \n",
       "208                 480        1000        4000             0            0   \n",
       "\n",
       "     MAX Channel  Published RP  Estimated RP  \n",
       "0            128           198           199  \n",
       "1             32           269           253  \n",
       "2             32           220           253  \n",
       "3             32           172           253  \n",
       "4             16           132           132  \n",
       "..           ...           ...           ...  \n",
       "204            8            42            37  \n",
       "205            8            46            50  \n",
       "206           14            52            41  \n",
       "207            0            67            47  \n",
       "208            0            45            25  \n",
       "\n",
       "[209 rows x 8 columns]"
      ]
     },
     "execution_count": 12,
     "metadata": {},
     "output_type": "execute_result"
    }
   ],
   "source": [
    "# printing top 5 rows of numerical variables\n",
    "df[df_num]"
   ]
  },
  {
   "cell_type": "code",
   "execution_count": 13,
   "metadata": {},
   "outputs": [],
   "source": [
    "# As we see in the dataframe we have Published RP and  Estimated RP,\n",
    "# our aim is to predict the Estimated RP, hence it is the target variable.\n",
    "# Published RP is a redundant column and can ignored."
   ]
  },
  {
   "cell_type": "code",
   "execution_count": 14,
   "metadata": {},
   "outputs": [
    {
     "data": {
      "text/html": [
       "<div>\n",
       "<style scoped>\n",
       "    .dataframe tbody tr th:only-of-type {\n",
       "        vertical-align: middle;\n",
       "    }\n",
       "\n",
       "    .dataframe tbody tr th {\n",
       "        vertical-align: top;\n",
       "    }\n",
       "\n",
       "    .dataframe thead th {\n",
       "        text-align: right;\n",
       "    }\n",
       "</style>\n",
       "<table border=\"1\" class=\"dataframe\">\n",
       "  <thead>\n",
       "    <tr style=\"text-align: right;\">\n",
       "      <th></th>\n",
       "      <th>Machine Cycle Time</th>\n",
       "      <th>Min Memory</th>\n",
       "      <th>MAX Memory</th>\n",
       "      <th>Cache memory</th>\n",
       "      <th>MIN Channel</th>\n",
       "      <th>MAX Channel</th>\n",
       "      <th>Published RP</th>\n",
       "      <th>Estimated RP</th>\n",
       "    </tr>\n",
       "  </thead>\n",
       "  <tbody>\n",
       "    <tr>\n",
       "      <th>Machine Cycle Time</th>\n",
       "      <td>1.000000</td>\n",
       "      <td>-0.335642</td>\n",
       "      <td>-0.378561</td>\n",
       "      <td>-0.321000</td>\n",
       "      <td>-0.301090</td>\n",
       "      <td>-0.250502</td>\n",
       "      <td>-0.307099</td>\n",
       "      <td>-0.288396</td>\n",
       "    </tr>\n",
       "    <tr>\n",
       "      <th>Min Memory</th>\n",
       "      <td>-0.335642</td>\n",
       "      <td>1.000000</td>\n",
       "      <td>0.758157</td>\n",
       "      <td>0.534729</td>\n",
       "      <td>0.517189</td>\n",
       "      <td>0.266907</td>\n",
       "      <td>0.794931</td>\n",
       "      <td>0.819292</td>\n",
       "    </tr>\n",
       "    <tr>\n",
       "      <th>MAX Memory</th>\n",
       "      <td>-0.378561</td>\n",
       "      <td>0.758157</td>\n",
       "      <td>1.000000</td>\n",
       "      <td>0.537990</td>\n",
       "      <td>0.560513</td>\n",
       "      <td>0.527246</td>\n",
       "      <td>0.863004</td>\n",
       "      <td>0.901202</td>\n",
       "    </tr>\n",
       "    <tr>\n",
       "      <th>Cache memory</th>\n",
       "      <td>-0.321000</td>\n",
       "      <td>0.534729</td>\n",
       "      <td>0.537990</td>\n",
       "      <td>1.000000</td>\n",
       "      <td>0.582245</td>\n",
       "      <td>0.487846</td>\n",
       "      <td>0.662641</td>\n",
       "      <td>0.648620</td>\n",
       "    </tr>\n",
       "    <tr>\n",
       "      <th>MIN Channel</th>\n",
       "      <td>-0.301090</td>\n",
       "      <td>0.517189</td>\n",
       "      <td>0.560513</td>\n",
       "      <td>0.582245</td>\n",
       "      <td>1.000000</td>\n",
       "      <td>0.548281</td>\n",
       "      <td>0.608903</td>\n",
       "      <td>0.610580</td>\n",
       "    </tr>\n",
       "    <tr>\n",
       "      <th>MAX Channel</th>\n",
       "      <td>-0.250502</td>\n",
       "      <td>0.266907</td>\n",
       "      <td>0.527246</td>\n",
       "      <td>0.487846</td>\n",
       "      <td>0.548281</td>\n",
       "      <td>1.000000</td>\n",
       "      <td>0.605209</td>\n",
       "      <td>0.592156</td>\n",
       "    </tr>\n",
       "    <tr>\n",
       "      <th>Published RP</th>\n",
       "      <td>-0.307099</td>\n",
       "      <td>0.794931</td>\n",
       "      <td>0.863004</td>\n",
       "      <td>0.662641</td>\n",
       "      <td>0.608903</td>\n",
       "      <td>0.605209</td>\n",
       "      <td>1.000000</td>\n",
       "      <td>0.966472</td>\n",
       "    </tr>\n",
       "    <tr>\n",
       "      <th>Estimated RP</th>\n",
       "      <td>-0.288396</td>\n",
       "      <td>0.819292</td>\n",
       "      <td>0.901202</td>\n",
       "      <td>0.648620</td>\n",
       "      <td>0.610580</td>\n",
       "      <td>0.592156</td>\n",
       "      <td>0.966472</td>\n",
       "      <td>1.000000</td>\n",
       "    </tr>\n",
       "  </tbody>\n",
       "</table>\n",
       "</div>"
      ],
      "text/plain": [
       "                    Machine Cycle Time  Min Memory  MAX Memory  Cache memory  \\\n",
       "Machine Cycle Time            1.000000   -0.335642   -0.378561     -0.321000   \n",
       "Min Memory                   -0.335642    1.000000    0.758157      0.534729   \n",
       "MAX Memory                   -0.378561    0.758157    1.000000      0.537990   \n",
       "Cache memory                 -0.321000    0.534729    0.537990      1.000000   \n",
       "MIN Channel                  -0.301090    0.517189    0.560513      0.582245   \n",
       "MAX Channel                  -0.250502    0.266907    0.527246      0.487846   \n",
       "Published RP                 -0.307099    0.794931    0.863004      0.662641   \n",
       "Estimated RP                 -0.288396    0.819292    0.901202      0.648620   \n",
       "\n",
       "                    MIN Channel  MAX Channel  Published RP  Estimated RP  \n",
       "Machine Cycle Time    -0.301090    -0.250502     -0.307099     -0.288396  \n",
       "Min Memory             0.517189     0.266907      0.794931      0.819292  \n",
       "MAX Memory             0.560513     0.527246      0.863004      0.901202  \n",
       "Cache memory           0.582245     0.487846      0.662641      0.648620  \n",
       "MIN Channel            1.000000     0.548281      0.608903      0.610580  \n",
       "MAX Channel            0.548281     1.000000      0.605209      0.592156  \n",
       "Published RP           0.608903     0.605209      1.000000      0.966472  \n",
       "Estimated RP           0.610580     0.592156      0.966472      1.000000  "
      ]
     },
     "execution_count": 14,
     "metadata": {},
     "output_type": "execute_result"
    }
   ],
   "source": [
    "# computing standard correlation coefficients (Pearson's r) for each pair of attributes\n",
    "\n",
    "corr_matrix = df.corr()\n",
    "corr_matrix"
   ]
  },
  {
   "cell_type": "code",
   "execution_count": 15,
   "metadata": {},
   "outputs": [
    {
     "data": {
      "text/plain": [
       "Estimated RP          1.000000\n",
       "Published RP          0.966472\n",
       "MAX Memory            0.901202\n",
       "Min Memory            0.819292\n",
       "Cache memory          0.648620\n",
       "MIN Channel           0.610580\n",
       "MAX Channel           0.592156\n",
       "Machine Cycle Time   -0.288396\n",
       "Name: Estimated RP, dtype: float64"
      ]
     },
     "execution_count": 15,
     "metadata": {},
     "output_type": "execute_result"
    }
   ],
   "source": [
    "# checking the correlation coefficients for the target variable \n",
    "\n",
    "corr_matrix['Estimated RP'].sort_values(ascending=False)"
   ]
  },
  {
   "cell_type": "code",
   "execution_count": 16,
   "metadata": {},
   "outputs": [
    {
     "data": {
      "image/png": "[encoded data removed]",
      "text/plain": [
       "<Figure size 1152x720 with 2 Axes>"
      ]
     },
     "metadata": {
      "needs_background": "light"
     },
     "output_type": "display_data"
    }
   ],
   "source": [
    "# From the correlation matrix, we found that Estimated RP is positively correlated with \n",
    "# Min Memory, MAX Memory, Cache Memory , MIN Channel and MAX Channel.\n",
    "\n",
    "# plotting correlation heat map\n",
    "\n",
    "plt.figure(figsize=(16,10))\n",
    "plt.title('Correlation Matrix')\n",
    "a = sns.heatmap(corr_matrix, square=True, annot=True, fmt='.2f', linecolor='white')\n",
    "a.set_xticklabels(a.get_xticklabels(), rotation=90)\n",
    "a.set_yticklabels(a.get_yticklabels(), rotation=30)           \n",
    "plt.show()"
   ]
  },
  {
   "cell_type": "code",
   "execution_count": 17,
   "metadata": {},
   "outputs": [
    {
     "data": {
      "text/html": [
       "<div>\n",
       "<style scoped>\n",
       "    .dataframe tbody tr th:only-of-type {\n",
       "        vertical-align: middle;\n",
       "    }\n",
       "\n",
       "    .dataframe tbody tr th {\n",
       "        vertical-align: top;\n",
       "    }\n",
       "\n",
       "    .dataframe thead th {\n",
       "        text-align: right;\n",
       "    }\n",
       "</style>\n",
       "<table border=\"1\" class=\"dataframe\">\n",
       "  <thead>\n",
       "    <tr style=\"text-align: right;\">\n",
       "      <th></th>\n",
       "      <th>Machine Cycle Time</th>\n",
       "      <th>Min Memory</th>\n",
       "      <th>MAX Memory</th>\n",
       "      <th>Cache memory</th>\n",
       "      <th>MIN Channel</th>\n",
       "      <th>MAX Channel</th>\n",
       "      <th>Published RP</th>\n",
       "      <th>Estimated RP</th>\n",
       "    </tr>\n",
       "  </thead>\n",
       "  <tbody>\n",
       "    <tr>\n",
       "      <th>count</th>\n",
       "      <td>209.000000</td>\n",
       "      <td>209.000000</td>\n",
       "      <td>209.000000</td>\n",
       "      <td>209.000000</td>\n",
       "      <td>209.000000</td>\n",
       "      <td>209.000000</td>\n",
       "      <td>209.000000</td>\n",
       "      <td>209.000000</td>\n",
       "    </tr>\n",
       "    <tr>\n",
       "      <th>mean</th>\n",
       "      <td>203.822967</td>\n",
       "      <td>2867.980861</td>\n",
       "      <td>11796.153110</td>\n",
       "      <td>25.205742</td>\n",
       "      <td>4.698565</td>\n",
       "      <td>18.267943</td>\n",
       "      <td>105.622010</td>\n",
       "      <td>99.330144</td>\n",
       "    </tr>\n",
       "    <tr>\n",
       "      <th>std</th>\n",
       "      <td>260.262926</td>\n",
       "      <td>3878.742758</td>\n",
       "      <td>11726.564377</td>\n",
       "      <td>40.628722</td>\n",
       "      <td>6.816274</td>\n",
       "      <td>25.997318</td>\n",
       "      <td>160.830733</td>\n",
       "      <td>154.757102</td>\n",
       "    </tr>\n",
       "    <tr>\n",
       "      <th>min</th>\n",
       "      <td>17.000000</td>\n",
       "      <td>64.000000</td>\n",
       "      <td>64.000000</td>\n",
       "      <td>0.000000</td>\n",
       "      <td>0.000000</td>\n",
       "      <td>0.000000</td>\n",
       "      <td>6.000000</td>\n",
       "      <td>15.000000</td>\n",
       "    </tr>\n",
       "    <tr>\n",
       "      <th>25%</th>\n",
       "      <td>50.000000</td>\n",
       "      <td>768.000000</td>\n",
       "      <td>4000.000000</td>\n",
       "      <td>0.000000</td>\n",
       "      <td>1.000000</td>\n",
       "      <td>5.000000</td>\n",
       "      <td>27.000000</td>\n",
       "      <td>28.000000</td>\n",
       "    </tr>\n",
       "    <tr>\n",
       "      <th>50%</th>\n",
       "      <td>110.000000</td>\n",
       "      <td>2000.000000</td>\n",
       "      <td>8000.000000</td>\n",
       "      <td>8.000000</td>\n",
       "      <td>2.000000</td>\n",
       "      <td>8.000000</td>\n",
       "      <td>50.000000</td>\n",
       "      <td>45.000000</td>\n",
       "    </tr>\n",
       "    <tr>\n",
       "      <th>75%</th>\n",
       "      <td>225.000000</td>\n",
       "      <td>4000.000000</td>\n",
       "      <td>16000.000000</td>\n",
       "      <td>32.000000</td>\n",
       "      <td>6.000000</td>\n",
       "      <td>24.000000</td>\n",
       "      <td>113.000000</td>\n",
       "      <td>101.000000</td>\n",
       "    </tr>\n",
       "    <tr>\n",
       "      <th>max</th>\n",
       "      <td>1500.000000</td>\n",
       "      <td>32000.000000</td>\n",
       "      <td>64000.000000</td>\n",
       "      <td>256.000000</td>\n",
       "      <td>52.000000</td>\n",
       "      <td>176.000000</td>\n",
       "      <td>1150.000000</td>\n",
       "      <td>1238.000000</td>\n",
       "    </tr>\n",
       "  </tbody>\n",
       "</table>\n",
       "</div>"
      ],
      "text/plain": [
       "       Machine Cycle Time    Min Memory    MAX Memory  Cache memory  \\\n",
       "count          209.000000    209.000000    209.000000    209.000000   \n",
       "mean           203.822967   2867.980861  11796.153110     25.205742   \n",
       "std            260.262926   3878.742758  11726.564377     40.628722   \n",
       "min             17.000000     64.000000     64.000000      0.000000   \n",
       "25%             50.000000    768.000000   4000.000000      0.000000   \n",
       "50%            110.000000   2000.000000   8000.000000      8.000000   \n",
       "75%            225.000000   4000.000000  16000.000000     32.000000   \n",
       "max           1500.000000  32000.000000  64000.000000    256.000000   \n",
       "\n",
       "       MIN Channel  MAX Channel  Published RP  Estimated RP  \n",
       "count   209.000000   209.000000    209.000000    209.000000  \n",
       "mean      4.698565    18.267943    105.622010     99.330144  \n",
       "std       6.816274    25.997318    160.830733    154.757102  \n",
       "min       0.000000     0.000000      6.000000     15.000000  \n",
       "25%       1.000000     5.000000     27.000000     28.000000  \n",
       "50%       2.000000     8.000000     50.000000     45.000000  \n",
       "75%       6.000000    24.000000    113.000000    101.000000  \n",
       "max      52.000000   176.000000   1150.000000   1238.000000  "
      ]
     },
     "execution_count": 17,
     "metadata": {},
     "output_type": "execute_result"
    }
   ],
   "source": [
    "# To check outliers in discrete variables\n",
    "\n",
    "df.describe()"
   ]
  },
  {
   "cell_type": "code",
   "execution_count": 18,
   "metadata": {},
   "outputs": [
    {
     "data": {
      "text/plain": [
       "Vendor Name           0\n",
       "Model Name            0\n",
       "Machine Cycle Time    0\n",
       "Min Memory            0\n",
       "MAX Memory            0\n",
       "Cache memory          0\n",
       "MIN Channel           0\n",
       "MAX Channel           0\n",
       "Published RP          0\n",
       "Estimated RP          0\n",
       "dtype: int64"
      ]
     },
     "execution_count": 18,
     "metadata": {},
     "output_type": "execute_result"
    }
   ],
   "source": [
    "# checking for null values\n",
    "\n",
    "df.isnull().sum()"
   ]
  },
  {
   "cell_type": "code",
   "execution_count": 19,
   "metadata": {},
   "outputs": [
    {
     "data": {
      "image/png": "[encoded data removed]",
      "text/plain": [
       "<Figure size 1152x720 with 1 Axes>"
      ]
     },
     "metadata": {
      "needs_background": "light"
     },
     "output_type": "display_data"
    },
    {
     "data": {
      "image/png": "[encoded data removed]",
      "text/plain": [
       "<Figure size 1152x720 with 1 Axes>"
      ]
     },
     "metadata": {
      "needs_background": "light"
     },
     "output_type": "display_data"
    },
    {
     "data": {
      "image/png": "[encoded data removed]",
      "text/plain": [
       "<Figure size 1152x720 with 1 Axes>"
      ]
     },
     "metadata": {
      "needs_background": "light"
     },
     "output_type": "display_data"
    },
    {
     "data": {
      "image/png": "[encoded data removed]",
      "text/plain": [
       "<Figure size 1152x720 with 1 Axes>"
      ]
     },
     "metadata": {
      "needs_background": "light"
     },
     "output_type": "display_data"
    },
    {
     "data": {
      "image/png": "[encoded data removed]",
      "text/plain": [
       "<Figure size 1152x720 with 1 Axes>"
      ]
     },
     "metadata": {
      "needs_background": "light"
     },
     "output_type": "display_data"
    },
    {
     "data": {
      "image/png": "[encoded data removed]",
      "text/plain": [
       "<Figure size 1152x720 with 1 Axes>"
      ]
     },
     "metadata": {
      "needs_background": "light"
     },
     "output_type": "display_data"
    }
   ],
   "source": [
    "# detect outliers in discrete variables\n",
    "\n",
    "for var in ['Machine Cycle Time', 'Min Memory', 'MAX Memory', 'Cache memory', 'MIN Channel', 'MAX Channel']:\n",
    "    plt.figure(figsize=(16,10))\n",
    "    (df.groupby(var)[var].count() / np.float(len(df))).plot.bar()\n",
    "    plt.ylabel('Percentage of observations per label')\n",
    "    plt.title(var)\n",
    "    plt.show()"
   ]
  },
  {
   "cell_type": "code",
   "execution_count": 20,
   "metadata": {},
   "outputs": [],
   "source": [
    "#From the above plot, we can see that the discrete variables show values that are shared by a tiny proportion of variable values in the dataset. For linear regression modeling, this does not cause any problem."
   ]
  },
  {
   "cell_type": "code",
   "execution_count": 21,
   "metadata": {},
   "outputs": [
    {
     "data": {
      "image/png": "[encoded data removed]",
      "text/plain": [
       "<Figure size 864x576 with 1 Axes>"
      ]
     },
     "metadata": {
      "needs_background": "light"
     },
     "output_type": "display_data"
    }
   ],
   "source": [
    "# plot the categorical variable \"Vendor Name\"\n",
    "\n",
    "plt.figure(figsize=(12,8))\n",
    "(df['Vendor Name'].value_counts()).plot.bar()\n",
    "plt.title('Count of categories in Vendor Name')\n",
    "plt.xlabel('Vendor Name')\n",
    "plt.ylabel('Count')\n",
    "plt.show()"
   ]
  },
  {
   "cell_type": "code",
   "execution_count": 22,
   "metadata": {},
   "outputs": [
    {
     "data": {
      "text/html": [
       "<div>\n",
       "<style scoped>\n",
       "    .dataframe tbody tr th:only-of-type {\n",
       "        vertical-align: middle;\n",
       "    }\n",
       "\n",
       "    .dataframe tbody tr th {\n",
       "        vertical-align: top;\n",
       "    }\n",
       "\n",
       "    .dataframe thead th {\n",
       "        text-align: right;\n",
       "    }\n",
       "</style>\n",
       "<table border=\"1\" class=\"dataframe\">\n",
       "  <thead>\n",
       "    <tr style=\"text-align: right;\">\n",
       "      <th></th>\n",
       "      <th>Vendor Name</th>\n",
       "      <th>Model Name</th>\n",
       "    </tr>\n",
       "  </thead>\n",
       "  <tbody>\n",
       "    <tr>\n",
       "      <th>0</th>\n",
       "      <td>adviser</td>\n",
       "      <td>32/60</td>\n",
       "    </tr>\n",
       "    <tr>\n",
       "      <th>1</th>\n",
       "      <td>amdahl</td>\n",
       "      <td>470v/7</td>\n",
       "    </tr>\n",
       "    <tr>\n",
       "      <th>2</th>\n",
       "      <td>amdahl</td>\n",
       "      <td>470v/7a</td>\n",
       "    </tr>\n",
       "    <tr>\n",
       "      <th>3</th>\n",
       "      <td>amdahl</td>\n",
       "      <td>470v/7b</td>\n",
       "    </tr>\n",
       "    <tr>\n",
       "      <th>4</th>\n",
       "      <td>amdahl</td>\n",
       "      <td>470v/7c</td>\n",
       "    </tr>\n",
       "  </tbody>\n",
       "</table>\n",
       "</div>"
      ],
      "text/plain": [
       "  Vendor Name Model Name\n",
       "0     adviser      32/60\n",
       "1      amdahl     470v/7\n",
       "2      amdahl    470v/7a\n",
       "3      amdahl    470v/7b\n",
       "4      amdahl    470v/7c"
      ]
     },
     "execution_count": 22,
     "metadata": {},
     "output_type": "execute_result"
    }
   ],
   "source": [
    "# Splitting the dataset into numerical and categorical dataset\n",
    "\n",
    "df_categorical = df.iloc[:,:2]\n",
    "\n",
    "df_categorical.head()"
   ]
  },
  {
   "cell_type": "code",
   "execution_count": 23,
   "metadata": {},
   "outputs": [
    {
     "data": {
      "text/html": [
       "<div>\n",
       "<style scoped>\n",
       "    .dataframe tbody tr th:only-of-type {\n",
       "        vertical-align: middle;\n",
       "    }\n",
       "\n",
       "    .dataframe tbody tr th {\n",
       "        vertical-align: top;\n",
       "    }\n",
       "\n",
       "    .dataframe thead th {\n",
       "        text-align: right;\n",
       "    }\n",
       "</style>\n",
       "<table border=\"1\" class=\"dataframe\">\n",
       "  <thead>\n",
       "    <tr style=\"text-align: right;\">\n",
       "      <th></th>\n",
       "      <th>Machine Cycle Time</th>\n",
       "      <th>Min Memory</th>\n",
       "      <th>MAX Memory</th>\n",
       "      <th>Cache memory</th>\n",
       "      <th>MIN Channel</th>\n",
       "      <th>MAX Channel</th>\n",
       "      <th>Published RP</th>\n",
       "      <th>Estimated RP</th>\n",
       "    </tr>\n",
       "  </thead>\n",
       "  <tbody>\n",
       "    <tr>\n",
       "      <th>0</th>\n",
       "      <td>125</td>\n",
       "      <td>256</td>\n",
       "      <td>6000</td>\n",
       "      <td>256</td>\n",
       "      <td>16</td>\n",
       "      <td>128</td>\n",
       "      <td>198</td>\n",
       "      <td>199</td>\n",
       "    </tr>\n",
       "    <tr>\n",
       "      <th>1</th>\n",
       "      <td>29</td>\n",
       "      <td>8000</td>\n",
       "      <td>32000</td>\n",
       "      <td>32</td>\n",
       "      <td>8</td>\n",
       "      <td>32</td>\n",
       "      <td>269</td>\n",
       "      <td>253</td>\n",
       "    </tr>\n",
       "    <tr>\n",
       "      <th>2</th>\n",
       "      <td>29</td>\n",
       "      <td>8000</td>\n",
       "      <td>32000</td>\n",
       "      <td>32</td>\n",
       "      <td>8</td>\n",
       "      <td>32</td>\n",
       "      <td>220</td>\n",
       "      <td>253</td>\n",
       "    </tr>\n",
       "    <tr>\n",
       "      <th>3</th>\n",
       "      <td>29</td>\n",
       "      <td>8000</td>\n",
       "      <td>32000</td>\n",
       "      <td>32</td>\n",
       "      <td>8</td>\n",
       "      <td>32</td>\n",
       "      <td>172</td>\n",
       "      <td>253</td>\n",
       "    </tr>\n",
       "    <tr>\n",
       "      <th>4</th>\n",
       "      <td>29</td>\n",
       "      <td>8000</td>\n",
       "      <td>16000</td>\n",
       "      <td>32</td>\n",
       "      <td>8</td>\n",
       "      <td>16</td>\n",
       "      <td>132</td>\n",
       "      <td>132</td>\n",
       "    </tr>\n",
       "  </tbody>\n",
       "</table>\n",
       "</div>"
      ],
      "text/plain": [
       "   Machine Cycle Time  Min Memory  MAX Memory  Cache memory  MIN Channel  \\\n",
       "0                 125         256        6000           256           16   \n",
       "1                  29        8000       32000            32            8   \n",
       "2                  29        8000       32000            32            8   \n",
       "3                  29        8000       32000            32            8   \n",
       "4                  29        8000       16000            32            8   \n",
       "\n",
       "   MAX Channel  Published RP  Estimated RP  \n",
       "0          128           198           199  \n",
       "1           32           269           253  \n",
       "2           32           220           253  \n",
       "3           32           172           253  \n",
       "4           16           132           132  "
      ]
     },
     "execution_count": 23,
     "metadata": {},
     "output_type": "execute_result"
    }
   ],
   "source": [
    "df_numerical = df.iloc[:, 2:]\n",
    "\n",
    "df_numerical.head()"
   ]
  },
  {
   "cell_type": "markdown",
   "metadata": {},
   "source": [
    "## Linear Regression Modelling"
   ]
  },
  {
   "cell_type": "code",
   "execution_count": 24,
   "metadata": {},
   "outputs": [],
   "source": [
    "# Selecting the predictor and target variables from df_numerical\n",
    "# We will ignore Published RP as it is a redundant column\n",
    "\n",
    "X = df_numerical.iloc[:,0:6]\n",
    "\n",
    "Y = df_numerical.iloc[:,-1]"
   ]
  },
  {
   "cell_type": "code",
   "execution_count": 25,
   "metadata": {},
   "outputs": [],
   "source": [
    "# Splitting data into test and train\n",
    "\n",
    "from sklearn.model_selection import train_test_split\n",
    "\n",
    "X_train, X_test, Y_train, Y_test = train_test_split(X,Y,test_size = 0.3,random_state = 0)"
   ]
  },
  {
   "cell_type": "code",
   "execution_count": 26,
   "metadata": {},
   "outputs": [
    {
     "data": {
      "text/plain": [
       "((146, 6), (146,))"
      ]
     },
     "execution_count": 26,
     "metadata": {},
     "output_type": "execute_result"
    }
   ],
   "source": [
    "# checking shape of test and training data\n",
    "\n",
    "X_train.shape, Y_train.shape"
   ]
  },
  {
   "cell_type": "code",
   "execution_count": 27,
   "metadata": {},
   "outputs": [
    {
     "data": {
      "text/plain": [
       "((63, 6), (63,))"
      ]
     },
     "execution_count": 27,
     "metadata": {},
     "output_type": "execute_result"
    }
   ],
   "source": [
    "X_test.shape, Y_test.shape"
   ]
  },
  {
   "cell_type": "code",
   "execution_count": 28,
   "metadata": {},
   "outputs": [],
   "source": [
    "#  We will using Feature Scaling method to standardize the data \n",
    "# I am using StandardScaler from sklearn for feature\n",
    "\n",
    "# importing the StandardScaler class from preprocessing library\n",
    "from sklearn.preprocessing import StandardScaler\n",
    "\n",
    "# instantiate an object scaler\n",
    "scaler = StandardScaler()\n",
    "\n",
    "# fit the scaler to the training set and then transform it\n",
    "X_train = scaler.fit_transform(X_train)\n",
    "\n",
    "# transform the test set\n",
    "X_test = scaler.transform(X_test)"
   ]
  },
  {
   "cell_type": "code",
   "execution_count": 29,
   "metadata": {},
   "outputs": [
    {
     "data": {
      "text/plain": [
       "LinearRegression(copy_X=True, fit_intercept=True, n_jobs=None, normalize=False)"
      ]
     },
     "execution_count": 29,
     "metadata": {},
     "output_type": "execute_result"
    }
   ],
   "source": [
    "# Build and fit the linear regression model\n",
    "\n",
    "# importing the LinearRegression class from linear_model library\n",
    "from sklearn.linear_model import LinearRegression\n",
    "\n",
    "# instantiate an object lr\n",
    "lr = LinearRegression()\n",
    "\n",
    "\n",
    "# Train the model using the training sets\n",
    "lr.fit(X_train, Y_train)"
   ]
  },
  {
   "cell_type": "code",
   "execution_count": 30,
   "metadata": {},
   "outputs": [
    {
     "data": {
      "text/plain": [
       "array([ 53.25899879,  -7.30914167,  85.61134478, 333.46353054,\n",
       "        88.17105392, -16.58129332,  92.52796135,  53.8453543 ,\n",
       "       266.93488421, 197.13339895,  26.12367068, 521.67728638,\n",
       "        70.27440089, 218.8743902 , 445.39038784,   6.44136356,\n",
       "        27.42701247, -16.02341777, -40.97025653, -11.14771009,\n",
       "       -25.83227337,  99.791943  , 455.57718867,  40.31328116,\n",
       "        26.03695563,  95.11716367,  -2.61725869,  10.65043882,\n",
       "       -28.67074614,  34.28080493,  75.81219309,  34.33609154,\n",
       "        30.89585298, 101.03428352, 128.44097378, 105.58922964,\n",
       "       -18.07256295,  49.13283719, -14.85928465,  99.73223861,\n",
       "       246.11502923, 101.53746022,  -2.28180257,  39.6908657 ,\n",
       "       193.38408096,  16.24970661,  99.73223861,  52.59588689,\n",
       "        94.55018262,   9.87432157,   3.17893711,  -1.11130888,\n",
       "       100.93320523, 388.01564587, 667.35491836,  10.34074574,\n",
       "        38.80918893,  27.03972685,  86.46175062,  40.40157359,\n",
       "       311.58243355,  17.36264211,  24.05834246])"
      ]
     },
     "execution_count": 30,
     "metadata": {},
     "output_type": "execute_result"
    }
   ],
   "source": [
    "# Predicting on the test data set\n",
    "y_pred = lr.predict(X_test)\n",
    "y_pred"
   ]
  },
  {
   "cell_type": "code",
   "execution_count": 31,
   "metadata": {},
   "outputs": [
    {
     "data": {
      "text/plain": [
       "array([17.70202595, 59.11241774, 78.35042681, 16.53981449, -0.35410978,\n",
       "       38.97256261])"
      ]
     },
     "execution_count": 31,
     "metadata": {},
     "output_type": "execute_result"
    }
   ],
   "source": [
    "# coefficeints of the trained model\n",
    "coeff = lr.coef_\n",
    "coeff"
   ]
  },
  {
   "cell_type": "code",
   "execution_count": 32,
   "metadata": {},
   "outputs": [
    {
     "data": {
      "text/plain": [
       "100.0"
      ]
     },
     "execution_count": 32,
     "metadata": {},
     "output_type": "execute_result"
    }
   ],
   "source": [
    "# intercept of the model\n",
    "intercept = lr.intercept_\n",
    "intercept"
   ]
  },
  {
   "cell_type": "code",
   "execution_count": 33,
   "metadata": {},
   "outputs": [
    {
     "data": {
      "text/html": [
       "<div>\n",
       "<style scoped>\n",
       "    .dataframe tbody tr th:only-of-type {\n",
       "        vertical-align: middle;\n",
       "    }\n",
       "\n",
       "    .dataframe tbody tr th {\n",
       "        vertical-align: top;\n",
       "    }\n",
       "\n",
       "    .dataframe thead th {\n",
       "        text-align: right;\n",
       "    }\n",
       "</style>\n",
       "<table border=\"1\" class=\"dataframe\">\n",
       "  <thead>\n",
       "    <tr style=\"text-align: right;\">\n",
       "      <th></th>\n",
       "      <th>Estimated Coefficients</th>\n",
       "    </tr>\n",
       "    <tr>\n",
       "      <th>Features</th>\n",
       "      <th></th>\n",
       "    </tr>\n",
       "  </thead>\n",
       "  <tbody>\n",
       "    <tr>\n",
       "      <th>0</th>\n",
       "      <td>17.702026</td>\n",
       "    </tr>\n",
       "    <tr>\n",
       "      <th>1</th>\n",
       "      <td>59.112418</td>\n",
       "    </tr>\n",
       "    <tr>\n",
       "      <th>2</th>\n",
       "      <td>78.350427</td>\n",
       "    </tr>\n",
       "    <tr>\n",
       "      <th>3</th>\n",
       "      <td>16.539814</td>\n",
       "    </tr>\n",
       "    <tr>\n",
       "      <th>4</th>\n",
       "      <td>-0.354110</td>\n",
       "    </tr>\n",
       "    <tr>\n",
       "      <th>5</th>\n",
       "      <td>38.972563</td>\n",
       "    </tr>\n",
       "  </tbody>\n",
       "</table>\n",
       "</div>"
      ],
      "text/plain": [
       "          Estimated Coefficients\n",
       "Features                        \n",
       "0                      17.702026\n",
       "1                      59.112418\n",
       "2                      78.350427\n",
       "3                      16.539814\n",
       "4                      -0.354110\n",
       "5                      38.972563"
      ]
     },
     "execution_count": 33,
     "metadata": {},
     "output_type": "execute_result"
    }
   ],
   "source": [
    "# Building dataframe that contains features and estimated coefficients.\n",
    "\n",
    "dataset = list(zip(pd.DataFrame(X_train).columns, lr.coef_))\n",
    "\n",
    "pd.DataFrame(data = dataset, columns = ['Features', 'Estimated Coefficients']).set_index('Features')"
   ]
  },
  {
   "cell_type": "markdown",
   "metadata": {},
   "source": [
    "## Evaluating Model Performance"
   ]
  },
  {
   "cell_type": "code",
   "execution_count": 34,
   "metadata": {},
   "outputs": [
    {
     "data": {
      "text/plain": [
       "37.98514804528243"
      ]
     },
     "execution_count": 34,
     "metadata": {},
     "output_type": "execute_result"
    }
   ],
   "source": [
    "# RMSE(Root Mean Square Error)\n",
    "\n",
    "from sklearn.metrics import mean_squared_error\n",
    "mse = mean_squared_error(Y_test, y_pred)\n",
    "rmse = np.sqrt(mse)\n",
    "rmse"
   ]
  },
  {
   "cell_type": "code",
   "execution_count": 35,
   "metadata": {},
   "outputs": [
    {
     "data": {
      "text/plain": [
       "0.92076066251637"
      ]
     },
     "execution_count": 35,
     "metadata": {},
     "output_type": "execute_result"
    }
   ],
   "source": [
    "# R2 Score\n",
    "\n",
    "from sklearn.metrics import r2_score\n",
    "\n",
    "r2 = r2_score(Y_test, y_pred)\n",
    "r2"
   ]
  },
  {
   "cell_type": "markdown",
   "metadata": {},
   "source": [
    "In business decisions, the benchmark for the R2 score value is 0.7. It means if R2 score value >= 0.7, then the model is good enough to deploy on unseen data whereas if R2 score value < 0.7, then the model is not good enough to deploy.\n",
    "\n",
    "Our R2 score value has been found to be 0.92. It means that this model explains 92% of the variance in our dependent variable. So, the R2 score value confirms that the model is good enough to deploy because it provides good fit to the data."
   ]
  },
  {
   "cell_type": "code",
   "execution_count": 36,
   "metadata": {},
   "outputs": [
    {
     "data": {
      "text/plain": [
       "0.91"
      ]
     },
     "execution_count": 36,
     "metadata": {},
     "output_type": "execute_result"
    }
   ],
   "source": [
    "# Evaluating training set performance\n",
    "\n",
    "score_training = lr.score(X_train, Y_train)\n",
    "score_training.round(2)"
   ]
  },
  {
   "cell_type": "code",
   "execution_count": 37,
   "metadata": {},
   "outputs": [
    {
     "data": {
      "text/plain": [
       "0.92"
      ]
     },
     "execution_count": 37,
     "metadata": {},
     "output_type": "execute_result"
    }
   ],
   "source": [
    "# Evaluating test set performance\n",
    "\n",
    "score_test = lr.score(X_test, Y_test)\n",
    "score_test.round(2)"
   ]
  },
  {
   "cell_type": "markdown",
   "metadata": {},
   "source": [
    "Training set and test set performances are comparable. An R Square value of 0.92 is very good."
   ]
  },
  {
   "cell_type": "code",
   "execution_count": 38,
   "metadata": {},
   "outputs": [],
   "source": [
    "# import the library\n",
    "from sklearn.model_selection import cross_val_score\n",
    "\n",
    "# Compute 5-fold cross-validation scores: cv_scores\n",
    "cross_val_scores = cross_val_score(lr, X, Y, cv=5)"
   ]
  },
  {
   "cell_type": "code",
   "execution_count": 39,
   "metadata": {},
   "outputs": [
    {
     "data": {
      "text/plain": [
       "array([ 0.85, -0.86,  0.71,  0.88,  0.77])"
      ]
     },
     "execution_count": 39,
     "metadata": {},
     "output_type": "execute_result"
    }
   ],
   "source": [
    "cross_val_scores.round(2)"
   ]
  },
  {
   "cell_type": "code",
   "execution_count": 40,
   "metadata": {},
   "outputs": [
    {
     "data": {
      "text/plain": [
       "0.47"
      ]
     },
     "execution_count": 40,
     "metadata": {},
     "output_type": "execute_result"
    }
   ],
   "source": [
    "avg_score = np.mean(cross_val_scores).round(2)\n",
    "avg_score"
   ]
  },
  {
   "cell_type": "markdown",
   "metadata": {},
   "source": [
    "## Conclusion:\n",
    "The r-squared or the coefficient of determination is 0.4691 on an average for 5-fold cross validation. It means that the predictor is only able to explain 46.91% of the variance in the target variable. This indicates that the model is not a good fit to the data.\n",
    "\n",
    "So, we can conclude that the linear regression model is unable to model the data to generate decent results. It should be noted that the model is performing equally on both training and testing datasets. It seems like a case where we would need to model this data using methods that can model non-linear relationships. Also variables need to be transformed to satisfy the normality assumption."
   ]
  },
  {
   "cell_type": "code",
   "execution_count": null,
   "metadata": {},
   "outputs": [],
   "source": []
  }
 ],
 "metadata": {
  "kernelspec": {
   "display_name": "Python 3",
   "language": "python",
   "name": "python3"
  },
  "language_info": {
   "codemirror_mode": {
    "name": "ipython",
    "version": 3
   },
   "file_extension": ".py",
   "mimetype": "text/x-python",
   "name": "python",
   "nbconvert_exporter": "python",
   "pygments_lexer": "ipython3",
   "version": "3.7.7"
  }
 },
 "nbformat": 4,
 "nbformat_minor": 4
}
